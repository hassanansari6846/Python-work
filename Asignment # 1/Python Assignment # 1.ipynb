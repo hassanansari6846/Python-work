{
 "cells": [
  {
   "cell_type": "markdown",
   "id": "8bc429ba",
   "metadata": {},
   "source": [
    "# Name : M.Hassan Sohail \n",
    "# Python Assignment # 1 "
   ]
  },
  {
   "cell_type": "markdown",
   "id": "f8249be8",
   "metadata": {},
   "source": [
    "# Question # 1 "
   ]
  },
  {
   "cell_type": "code",
   "execution_count": 2,
   "id": "97b5720a",
   "metadata": {},
   "outputs": [
    {
     "name": "stdout",
     "output_type": "stream",
     "text": [
      "\n",
      "    Twinkle , twinkle , little star,\n",
      "           How I Wonder What you are !\n",
      "               Up above the world so high, \n",
      "               Like a diamond in the sky.\n",
      "    Twinkle , twinkle , little star,\n",
      "           How I Wonder What you are !\n",
      "       \n"
     ]
    }
   ],
   "source": [
    "a = (\"\"\"\n",
    "    Twinkle , twinkle , little star,\n",
    "           How I Wonder What you are !\n",
    "               Up above the world so high, \n",
    "               Like a diamond in the sky.\n",
    "    Twinkle , twinkle , little star,\n",
    "           How I Wonder What you are !\n",
    "       \"\"\");\n",
    "print(a);\n"
   ]
  },
  {
   "cell_type": "markdown",
   "id": "b99a57a5",
   "metadata": {},
   "source": [
    "# Question # 2"
   ]
  },
  {
   "cell_type": "code",
   "execution_count": 19,
   "id": "8e5d8bde",
   "metadata": {},
   "outputs": [
    {
     "name": "stdout",
     "output_type": "stream",
     "text": [
      "Current version of Python is  3.8.8\n",
      "Version information :  sys.version_info(major=3, minor=8, micro=8, releaselevel='final', serial=0)\n"
     ]
    }
   ],
   "source": [
    "import sys\n",
    "import platform\n",
    "print(\"Current version of Python is \", platform.python_version())\n",
    "print(\"Version information : \" , sys.version_info)"
   ]
  },
  {
   "cell_type": "markdown",
   "id": "ece16203",
   "metadata": {},
   "source": [
    "# Question # 3"
   ]
  },
  {
   "cell_type": "code",
   "execution_count": 10,
   "id": "21ced917",
   "metadata": {},
   "outputs": [
    {
     "name": "stdout",
     "output_type": "stream",
     "text": [
      "Current date : 2021-12-30 , and time  : 22:25:45\n",
      "Today's date : 30/12/2021\n",
      "The time is now : 10:25:45 PM\n"
     ]
    }
   ],
   "source": [
    "import datetime\n",
    "e = datetime.datetime.now()\n",
    "print (e.strftime(\"Current date : %Y-%m-%d , and time  : %H:%M:%S\"))\n",
    "print (e.strftime(\"Today's date : %d/%m/%Y\"))\n",
    "print (e.strftime(\"The time is now : %I:%M:%S %p\"))\n"
   ]
  },
  {
   "cell_type": "markdown",
   "id": "8c79133d",
   "metadata": {},
   "source": [
    "# Question # 4"
   ]
  },
  {
   "cell_type": "code",
   "execution_count": 37,
   "id": "d890b211",
   "metadata": {},
   "outputs": [
    {
     "name": "stdout",
     "output_type": "stream",
     "text": [
      "Enter Radius Number : 22\n",
      "Area Of a Circle = 1520.73\n"
     ]
    }
   ],
   "source": [
    "radius = int(input(\"Enter Radius Number : \"));\n",
    "PI = 3.142\n",
    "area = (radius * radius) * PI;\n",
    "print(\"Area Of a Circle = %.2f\" %area)\n"
   ]
  },
  {
   "cell_type": "markdown",
   "id": "ffed3061",
   "metadata": {},
   "source": [
    "# Question # 5"
   ]
  },
  {
   "cell_type": "code",
   "execution_count": 39,
   "id": "c1a02dd3",
   "metadata": {},
   "outputs": [
    {
     "name": "stdout",
     "output_type": "stream",
     "text": [
      "Enter First Name : Hassan \n",
      "Enter Last Name : Sohail\n",
      "The original string is :  Hassan Sohail\n",
      "The reversed string is :  liahoS nassaH\n"
     ]
    }
   ],
   "source": [
    "def reverse(full_name):\n",
    "    str = \"\"\n",
    "    for i in full_name :\n",
    "        str = i + str\n",
    "    return str\n",
    "\n",
    "f_name = input(\"Enter First Name : \");\n",
    "L_name = input(\"Enter Last Name : \");\n",
    "\n",
    "full_name = f_name + L_name;\n",
    "\n",
    "print (\"The original string is : \" ,end = \" \")\n",
    "print (full_name)\n",
    "\n",
    "print (\"The reversed string is : \"  ,end = \" \")\n",
    "print (reverse(full_name))\n"
   ]
  },
  {
   "cell_type": "markdown",
   "id": "69daba06",
   "metadata": {},
   "source": [
    "# Question # 6"
   ]
  },
  {
   "cell_type": "code",
   "execution_count": 40,
   "id": "260d4dc9",
   "metadata": {},
   "outputs": [
    {
     "name": "stdout",
     "output_type": "stream",
     "text": [
      "Enter First Number : 8\n",
      "Enter Second Number : 4\n",
      "Calculations : \n",
      "Addition of given Number :  12\n",
      "Subtraction of given Number :  4\n",
      "Multiplication of given Number :  32\n",
      "division of given Number :  2.0\n",
      "modulus of given Number :  0\n"
     ]
    }
   ],
   "source": [
    "x = int(input(\"Enter First Number : \"));\n",
    "y = int(input(\"Enter Second Number : \"));\n",
    "add = x + y ;\n",
    "sub = x - y ;\n",
    "mul = x * y ;\n",
    "div = x / y;\n",
    "rem = x % y ;\n",
    "print(\"Calculations : \");\n",
    "print(\"Addition of given Number : \" ,add);\n",
    "print(\"Subtraction of given Number : \", sub);\n",
    "print(\"Multiplication of given Number : \", mul);\n",
    "print(\"division of given Number : \" ,div);\n",
    "print(\"modulus of given Number : \" ,rem);"
   ]
  }
 ],
 "metadata": {
  "kernelspec": {
   "display_name": "Python 3",
   "language": "python",
   "name": "python3"
  },
  "language_info": {
   "codemirror_mode": {
    "name": "ipython",
    "version": 3
   },
   "file_extension": ".py",
   "mimetype": "text/x-python",
   "name": "python",
   "nbconvert_exporter": "python",
   "pygments_lexer": "ipython3",
   "version": "3.8.8"
  }
 },
 "nbformat": 4,
 "nbformat_minor": 5
}
